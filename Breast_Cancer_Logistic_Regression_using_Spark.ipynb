{
  "nbformat": 4,
  "nbformat_minor": 0,
  "metadata": {
    "colab": {
      "provenance": [],
      "include_colab_link": true
    },
    "kernelspec": {
      "name": "python3",
      "display_name": "Python 3"
    },
    "language_info": {
      "name": "python"
    }
  },
  "cells": [
    {
      "cell_type": "markdown",
      "metadata": {
        "id": "view-in-github",
        "colab_type": "text"
      },
      "source": [
        "<a href=\"https://colab.research.google.com/github/AnishaVardh/Breast-Cancer-Classification/blob/main/Breast_Cancer_Logistic_Regression_using_Spark.ipynb\" target=\"_parent\"><img src=\"https://colab.research.google.com/assets/colab-badge.svg\" alt=\"Open In Colab\"/></a>"
      ]
    },
    {
      "cell_type": "markdown",
      "source": [
        "ANISHA V 19MIS1178"
      ],
      "metadata": {
        "id": "3nRkedYcKO8J"
      }
    },
    {
      "cell_type": "code",
      "source": [
        "from google.colab import drive\n",
        "drive.mount('/content/drive')"
      ],
      "metadata": {
        "colab": {
          "base_uri": "https://localhost:8080/"
        },
        "id": "b7nx_lPf9Tl-",
        "outputId": "4b5d878b-97f6-4c34-adba-4792c70e372c"
      },
      "execution_count": null,
      "outputs": [
        {
          "output_type": "stream",
          "name": "stdout",
          "text": [
            "Mounted at /content/drive\n"
          ]
        }
      ]
    },
    {
      "cell_type": "code",
      "source": [
        "!apt-get install openjdk-8-jdk-headless -qq > /dev/null"
      ],
      "metadata": {
        "id": "RNHJeeDW9Uhz"
      },
      "execution_count": null,
      "outputs": []
    },
    {
      "cell_type": "code",
      "source": [
        "!wget -q https://dlcdn.apache.org/spark/spark-3.2.1/spark-3.2.1-bin-hadoop3.2.tgz"
      ],
      "metadata": {
        "id": "Al--vGPi9evc"
      },
      "execution_count": null,
      "outputs": []
    },
    {
      "cell_type": "code",
      "source": [
        "!tar xf spark-3.2.1-bin-hadoop3.2.tgz"
      ],
      "metadata": {
        "id": "Z9wv8fzp9ex_"
      },
      "execution_count": null,
      "outputs": []
    },
    {
      "cell_type": "code",
      "source": [
        "!pip install -q findspark"
      ],
      "metadata": {
        "id": "IjBwvWSI9e0W"
      },
      "execution_count": null,
      "outputs": []
    },
    {
      "cell_type": "code",
      "source": [
        "!pwd"
      ],
      "metadata": {
        "colab": {
          "base_uri": "https://localhost:8080/"
        },
        "id": "yYl_dMxQ9e2j",
        "outputId": "ad1cb163-1325-44ef-c360-a7395f1c0c7c"
      },
      "execution_count": null,
      "outputs": [
        {
          "output_type": "stream",
          "name": "stdout",
          "text": [
            "/content\n"
          ]
        }
      ]
    },
    {
      "cell_type": "code",
      "source": [
        "import os\n",
        "os.environ[\"JAVA_HOME\"] = \"/usr/lib/jvm/java-8-openjdk-amd64\"\n",
        "os.environ[\"SPARK_HOME\"] = \"/content/spark-3.2.1-bin-hadoop3.2\""
      ],
      "metadata": {
        "id": "ZLamfilZ9e49"
      },
      "execution_count": null,
      "outputs": []
    },
    {
      "cell_type": "code",
      "source": [
        "!ls \"/content/spark-3.2.1-bin-hadoop3.2\""
      ],
      "metadata": {
        "colab": {
          "base_uri": "https://localhost:8080/"
        },
        "id": "D47ROkGg9e7p",
        "outputId": "e79d46ba-36df-4aa6-9163-c1af36b96ea4"
      },
      "execution_count": null,
      "outputs": [
        {
          "output_type": "stream",
          "name": "stdout",
          "text": [
            "bin   data\tjars\t    LICENSE   NOTICE  R\t\t RELEASE  yarn\n",
            "conf  examples\tkubernetes  licenses  python  README.md  sbin\n"
          ]
        }
      ]
    },
    {
      "cell_type": "code",
      "source": [
        "!ls \"/usr/lib/jvm/java-8-openjdk-amd64\""
      ],
      "metadata": {
        "colab": {
          "base_uri": "https://localhost:8080/"
        },
        "id": "O4YqFHoq9e9w",
        "outputId": "c435ba43-98c3-4c20-b6b4-ce285787390f"
      },
      "execution_count": null,
      "outputs": [
        {
          "output_type": "stream",
          "name": "stdout",
          "text": [
            "ASSEMBLY_EXCEPTION  docs     jre  man\t   THIRD_PARTY_README\n",
            "bin\t\t    include  lib  src.zip\n"
          ]
        }
      ]
    },
    {
      "cell_type": "code",
      "source": [
        "import findspark\n",
        "findspark.init()\n",
        "from pyspark.sql import SparkSession\n",
        "spark = SparkSession.builder.master(\"local[*]\").getOrCreate()"
      ],
      "metadata": {
        "id": "V2GCgKYM9fAH"
      },
      "execution_count": null,
      "outputs": []
    },
    {
      "cell_type": "code",
      "source": [
        "df = df = spark.read.format(\"csv\").load(\"/content/drive/MyDrive/data.csv\", inferSchema=True, header=True)"
      ],
      "metadata": {
        "id": "1ave-PLk9fCW"
      },
      "execution_count": null,
      "outputs": []
    },
    {
      "cell_type": "code",
      "source": [
        "display(df)"
      ],
      "metadata": {
        "colab": {
          "base_uri": "https://localhost:8080/",
          "height": 55
        },
        "id": "H_yPo3c59fEj",
        "outputId": "cef6a4f8-d689-4e6b-b747-c867ef8d1a08"
      },
      "execution_count": null,
      "outputs": [
        {
          "output_type": "display_data",
          "data": {
            "text/plain": [
              "DataFrame[id: int, diagnosis: string, radius_mean: double, texture_mean: double, perimeter_mean: double, area_mean: double, smoothness_mean: double, compactness_mean: double, concavity_mean: double, concave points_mean: double, symmetry_mean: double, fractal_dimension_mean: double, radius_se: double, texture_se: double, perimeter_se: double, area_se: double, smoothness_se: double, compactness_se: double, concavity_se: double, concave points_se: double, symmetry_se: double, fractal_dimension_se: double, radius_worst: double, texture_worst: double, perimeter_worst: double, area_worst: double, smoothness_worst: double, compactness_worst: double, concavity_worst: double, concave points_worst: double, symmetry_worst: double, fractal_dimension_worst: double, _c32: string]"
            ]
          },
          "metadata": {}
        }
      ]
    },
    {
      "cell_type": "code",
      "source": [
        "df.show()"
      ],
      "metadata": {
        "colab": {
          "base_uri": "https://localhost:8080/"
        },
        "id": "0zmbPcaI-ob6",
        "outputId": "da2255e4-86db-4626-b6ea-7b7b1908d1b6"
      },
      "execution_count": null,
      "outputs": [
        {
          "output_type": "stream",
          "name": "stdout",
          "text": [
            "+--------+---------+-----------+------------+--------------+---------+---------------+----------------+--------------+-------------------+-------------+----------------------+---------+----------+------------+-------+-------------+--------------+------------+-----------------+-----------+--------------------+------------+-------------+---------------+----------+----------------+-----------------+---------------+--------------------+--------------+-----------------------+----+\n",
            "|      id|diagnosis|radius_mean|texture_mean|perimeter_mean|area_mean|smoothness_mean|compactness_mean|concavity_mean|concave points_mean|symmetry_mean|fractal_dimension_mean|radius_se|texture_se|perimeter_se|area_se|smoothness_se|compactness_se|concavity_se|concave points_se|symmetry_se|fractal_dimension_se|radius_worst|texture_worst|perimeter_worst|area_worst|smoothness_worst|compactness_worst|concavity_worst|concave points_worst|symmetry_worst|fractal_dimension_worst|_c32|\n",
            "+--------+---------+-----------+------------+--------------+---------+---------------+----------------+--------------+-------------------+-------------+----------------------+---------+----------+------------+-------+-------------+--------------+------------+-----------------+-----------+--------------------+------------+-------------+---------------+----------+----------------+-----------------+---------------+--------------------+--------------+-----------------------+----+\n",
            "|  842302|        M|      17.99|       10.38|         122.8|   1001.0|         0.1184|          0.2776|        0.3001|             0.1471|       0.2419|               0.07871|    1.095|    0.9053|       8.589|  153.4|     0.006399|       0.04904|     0.05373|          0.01587|    0.03003|            0.006193|       25.38|        17.33|          184.6|    2019.0|          0.1622|           0.6656|         0.7119|              0.2654|        0.4601|                 0.1189|null|\n",
            "|  842517|        M|      20.57|       17.77|         132.9|   1326.0|        0.08474|         0.07864|        0.0869|            0.07017|       0.1812|               0.05667|   0.5435|    0.7339|       3.398|  74.08|     0.005225|       0.01308|      0.0186|           0.0134|    0.01389|            0.003532|       24.99|        23.41|          158.8|    1956.0|          0.1238|           0.1866|         0.2416|               0.186|         0.275|                0.08902|null|\n",
            "|84300903|        M|      19.69|       21.25|         130.0|   1203.0|         0.1096|          0.1599|        0.1974|             0.1279|       0.2069|               0.05999|   0.7456|    0.7869|       4.585|  94.03|      0.00615|       0.04006|     0.03832|          0.02058|     0.0225|            0.004571|       23.57|        25.53|          152.5|    1709.0|          0.1444|           0.4245|         0.4504|               0.243|        0.3613|                0.08758|null|\n",
            "|84348301|        M|      11.42|       20.38|         77.58|    386.1|         0.1425|          0.2839|        0.2414|             0.1052|       0.2597|               0.09744|   0.4956|     1.156|       3.445|  27.23|      0.00911|       0.07458|     0.05661|          0.01867|    0.05963|            0.009208|       14.91|         26.5|          98.87|     567.7|          0.2098|           0.8663|         0.6869|              0.2575|        0.6638|                  0.173|null|\n",
            "|84358402|        M|      20.29|       14.34|         135.1|   1297.0|         0.1003|          0.1328|         0.198|             0.1043|       0.1809|               0.05883|   0.7572|    0.7813|       5.438|  94.44|      0.01149|       0.02461|     0.05688|          0.01885|    0.01756|            0.005115|       22.54|        16.67|          152.2|    1575.0|          0.1374|            0.205|            0.4|              0.1625|        0.2364|                0.07678|null|\n",
            "|  843786|        M|      12.45|        15.7|         82.57|    477.1|         0.1278|            0.17|        0.1578|            0.08089|       0.2087|               0.07613|   0.3345|    0.8902|       2.217|  27.19|      0.00751|       0.03345|     0.03672|          0.01137|    0.02165|            0.005082|       15.47|        23.75|          103.4|     741.6|          0.1791|           0.5249|         0.5355|              0.1741|        0.3985|                 0.1244|null|\n",
            "|  844359|        M|      18.25|       19.98|         119.6|   1040.0|        0.09463|           0.109|        0.1127|              0.074|       0.1794|               0.05742|   0.4467|    0.7732|        3.18|  53.91|     0.004314|       0.01382|     0.02254|          0.01039|    0.01369|            0.002179|       22.88|        27.66|          153.2|    1606.0|          0.1442|           0.2576|         0.3784|              0.1932|        0.3063|                0.08368|null|\n",
            "|84458202|        M|      13.71|       20.83|          90.2|    577.9|         0.1189|          0.1645|       0.09366|            0.05985|       0.2196|               0.07451|   0.5835|     1.377|       3.856|  50.96|     0.008805|       0.03029|     0.02488|          0.01448|    0.01486|            0.005412|       17.06|        28.14|          110.6|     897.0|          0.1654|           0.3682|         0.2678|              0.1556|        0.3196|                 0.1151|null|\n",
            "|  844981|        M|       13.0|       21.82|          87.5|    519.8|         0.1273|          0.1932|        0.1859|            0.09353|        0.235|               0.07389|   0.3063|     1.002|       2.406|  24.32|     0.005731|       0.03502|     0.03553|          0.01226|    0.02143|            0.003749|       15.49|        30.73|          106.2|     739.3|          0.1703|           0.5401|          0.539|               0.206|        0.4378|                 0.1072|null|\n",
            "|84501001|        M|      12.46|       24.04|         83.97|    475.9|         0.1186|          0.2396|        0.2273|            0.08543|        0.203|               0.08243|   0.2976|     1.599|       2.039|  23.94|     0.007149|       0.07217|     0.07743|          0.01432|    0.01789|             0.01008|       15.09|        40.68|          97.65|     711.4|          0.1853|            1.058|          1.105|               0.221|        0.4366|                 0.2075|null|\n",
            "|  845636|        M|      16.02|       23.24|         102.7|    797.8|        0.08206|         0.06669|       0.03299|            0.03323|       0.1528|               0.05697|   0.3795|     1.187|       2.466|  40.51|     0.004029|      0.009269|     0.01101|         0.007591|     0.0146|            0.003042|       19.19|        33.88|          123.8|    1150.0|          0.1181|           0.1551|         0.1459|             0.09975|        0.2948|                0.08452|null|\n",
            "|84610002|        M|      15.78|       17.89|         103.6|    781.0|         0.0971|          0.1292|       0.09954|            0.06606|       0.1842|               0.06082|   0.5058|    0.9849|       3.564|  54.16|     0.005771|       0.04061|     0.02791|          0.01282|    0.02008|            0.004144|       20.42|        27.28|          136.5|    1299.0|          0.1396|           0.5609|         0.3965|               0.181|        0.3792|                 0.1048|null|\n",
            "|  846226|        M|      19.17|        24.8|         132.4|   1123.0|         0.0974|          0.2458|        0.2065|             0.1118|       0.2397|                 0.078|   0.9555|     3.568|       11.07|  116.2|     0.003139|       0.08297|      0.0889|           0.0409|    0.04484|             0.01284|       20.96|        29.94|          151.7|    1332.0|          0.1037|           0.3903|         0.3639|              0.1767|        0.3176|                 0.1023|null|\n",
            "|  846381|        M|      15.85|       23.95|         103.7|    782.7|        0.08401|          0.1002|       0.09938|            0.05364|       0.1847|               0.05338|   0.4033|     1.078|       2.903|  36.58|     0.009769|       0.03126|     0.05051|          0.01992|    0.02981|            0.003002|       16.84|        27.66|          112.0|     876.5|          0.1131|           0.1924|         0.2322|              0.1119|        0.2809|                0.06287|null|\n",
            "|84667401|        M|      13.73|       22.61|          93.6|    578.3|         0.1131|          0.2293|        0.2128|            0.08025|       0.2069|               0.07682|   0.2121|     1.169|       2.061|  19.21|     0.006429|       0.05936|     0.05501|          0.01628|    0.01961|            0.008093|       15.03|        32.01|          108.8|     697.7|          0.1651|           0.7725|         0.6943|              0.2208|        0.3596|                 0.1431|null|\n",
            "|84799002|        M|      14.54|       27.54|         96.73|    658.8|         0.1139|          0.1595|        0.1639|            0.07364|       0.2303|               0.07077|     0.37|     1.033|       2.879|  32.55|     0.005607|        0.0424|     0.04741|           0.0109|    0.01857|            0.005466|       17.46|        37.13|          124.1|     943.2|          0.1678|           0.6577|         0.7026|              0.1712|        0.4218|                 0.1341|null|\n",
            "|  848406|        M|      14.68|       20.13|         94.74|    684.5|        0.09867|           0.072|       0.07395|            0.05259|       0.1586|               0.05922|   0.4727|      1.24|       3.195|   45.4|     0.005718|       0.01162|     0.01998|          0.01109|     0.0141|            0.002085|       19.07|        30.88|          123.4|    1138.0|          0.1464|           0.1871|         0.2914|              0.1609|        0.3029|                0.08216|null|\n",
            "|84862001|        M|      16.13|       20.68|         108.1|    798.8|          0.117|          0.2022|        0.1722|             0.1028|       0.2164|               0.07356|   0.5692|     1.073|       3.854|  54.18|     0.007026|       0.02501|     0.03188|          0.01297|    0.01689|            0.004142|       20.96|        31.48|          136.8|    1315.0|          0.1789|           0.4233|         0.4784|              0.2073|        0.3706|                 0.1142|null|\n",
            "|  849014|        M|      19.81|       22.15|         130.0|   1260.0|        0.09831|          0.1027|        0.1479|            0.09498|       0.1582|               0.05395|   0.7582|     1.017|       5.865|  112.4|     0.006494|       0.01893|     0.03391|          0.01521|    0.01356|            0.001997|       27.32|        30.88|          186.8|    2398.0|          0.1512|            0.315|         0.5372|              0.2388|        0.2768|                0.07615|null|\n",
            "| 8510426|        B|      13.54|       14.36|         87.46|    566.3|        0.09779|         0.08129|       0.06664|            0.04781|       0.1885|               0.05766|   0.2699|    0.7886|       2.058|  23.56|     0.008462|        0.0146|     0.02387|          0.01315|     0.0198|              0.0023|       15.11|        19.26|           99.7|     711.2|           0.144|           0.1773|          0.239|              0.1288|        0.2977|                0.07259|null|\n",
            "+--------+---------+-----------+------------+--------------+---------+---------------+----------------+--------------+-------------------+-------------+----------------------+---------+----------+------------+-------+-------------+--------------+------------+-----------------+-----------+--------------------+------------+-------------+---------------+----------+----------------+-----------------+---------------+--------------------+--------------+-----------------------+----+\n",
            "only showing top 20 rows\n",
            "\n"
          ]
        }
      ]
    },
    {
      "cell_type": "code",
      "source": [
        "df.printSchema"
      ],
      "metadata": {
        "colab": {
          "base_uri": "https://localhost:8080/"
        },
        "id": "ZUCgYdT8-tZc",
        "outputId": "0b8641d9-93c8-45b7-b733-85329650468d"
      },
      "execution_count": null,
      "outputs": [
        {
          "output_type": "execute_result",
          "data": {
            "text/plain": [
              "<bound method DataFrame.printSchema of DataFrame[id: int, diagnosis: string, radius_mean: double, texture_mean: double, perimeter_mean: double, area_mean: double, smoothness_mean: double, compactness_mean: double, concavity_mean: double, concave points_mean: double, symmetry_mean: double, fractal_dimension_mean: double, radius_se: double, texture_se: double, perimeter_se: double, area_se: double, smoothness_se: double, compactness_se: double, concavity_se: double, concave points_se: double, symmetry_se: double, fractal_dimension_se: double, radius_worst: double, texture_worst: double, perimeter_worst: double, area_worst: double, smoothness_worst: double, compactness_worst: double, concavity_worst: double, concave points_worst: double, symmetry_worst: double, fractal_dimension_worst: double, _c32: string]>"
            ]
          },
          "metadata": {},
          "execution_count": 14
        }
      ]
    },
    {
      "cell_type": "markdown",
      "source": [
        " Missing Records"
      ],
      "metadata": {
        "id": "QxnSpYpwH6tY"
      }
    },
    {
      "cell_type": "code",
      "source": [
        "from pyspark.sql.functions import isnan, when, count, col"
      ],
      "metadata": {
        "id": "dbIfo8Xn-tb5"
      },
      "execution_count": null,
      "outputs": []
    },
    {
      "cell_type": "code",
      "source": [
        "df.select([count(when(isnan(c), c)).alias(c) for c in df.columns]).show()"
      ],
      "metadata": {
        "colab": {
          "base_uri": "https://localhost:8080/"
        },
        "id": "MF6KG3sY-300",
        "outputId": "6d3d3c1e-b408-4362-912d-f23bdf4fd6c9"
      },
      "execution_count": null,
      "outputs": [
        {
          "output_type": "stream",
          "name": "stdout",
          "text": [
            "+---+---------+-----------+------------+--------------+---------+---------------+----------------+--------------+-------------------+-------------+----------------------+---------+----------+------------+-------+-------------+--------------+------------+-----------------+-----------+--------------------+------------+-------------+---------------+----------+----------------+-----------------+---------------+--------------------+--------------+-----------------------+----+\n",
            "| id|diagnosis|radius_mean|texture_mean|perimeter_mean|area_mean|smoothness_mean|compactness_mean|concavity_mean|concave points_mean|symmetry_mean|fractal_dimension_mean|radius_se|texture_se|perimeter_se|area_se|smoothness_se|compactness_se|concavity_se|concave points_se|symmetry_se|fractal_dimension_se|radius_worst|texture_worst|perimeter_worst|area_worst|smoothness_worst|compactness_worst|concavity_worst|concave points_worst|symmetry_worst|fractal_dimension_worst|_c32|\n",
            "+---+---------+-----------+------------+--------------+---------+---------------+----------------+--------------+-------------------+-------------+----------------------+---------+----------+------------+-------+-------------+--------------+------------+-----------------+-----------+--------------------+------------+-------------+---------------+----------+----------------+-----------------+---------------+--------------------+--------------+-----------------------+----+\n",
            "|  0|        0|          0|           0|             0|        0|              0|               0|             0|                  0|            0|                     0|        0|         0|           0|      0|            0|             0|           0|                0|          0|                   0|           0|            0|              0|         0|               0|                0|              0|                   0|             0|                      0|   0|\n",
            "+---+---------+-----------+------------+--------------+---------+---------------+----------------+--------------+-------------------+-------------+----------------------+---------+----------+------------+-------+-------------+--------------+------------+-----------------+-----------+--------------------+------------+-------------+---------------+----------+----------------+-----------------+---------------+--------------------+--------------+-----------------------+----+\n",
            "\n"
          ]
        }
      ]
    },
    {
      "cell_type": "code",
      "source": [
        "df.na.drop().show(5)"
      ],
      "metadata": {
        "colab": {
          "base_uri": "https://localhost:8080/"
        },
        "id": "9D-j0vTS-37v",
        "outputId": "3da97855-747f-465d-81e7-5f95e8675d0e"
      },
      "execution_count": null,
      "outputs": [
        {
          "output_type": "stream",
          "name": "stdout",
          "text": [
            "+---+---------+-----------+------------+--------------+---------+---------------+----------------+--------------+-------------------+-------------+----------------------+---------+----------+------------+-------+-------------+--------------+------------+-----------------+-----------+--------------------+------------+-------------+---------------+----------+----------------+-----------------+---------------+--------------------+--------------+-----------------------+----+\n",
            "| id|diagnosis|radius_mean|texture_mean|perimeter_mean|area_mean|smoothness_mean|compactness_mean|concavity_mean|concave points_mean|symmetry_mean|fractal_dimension_mean|radius_se|texture_se|perimeter_se|area_se|smoothness_se|compactness_se|concavity_se|concave points_se|symmetry_se|fractal_dimension_se|radius_worst|texture_worst|perimeter_worst|area_worst|smoothness_worst|compactness_worst|concavity_worst|concave points_worst|symmetry_worst|fractal_dimension_worst|_c32|\n",
            "+---+---------+-----------+------------+--------------+---------+---------------+----------------+--------------+-------------------+-------------+----------------------+---------+----------+------------+-------+-------------+--------------+------------+-----------------+-----------+--------------------+------------+-------------+---------------+----------+----------------+-----------------+---------------+--------------------+--------------+-----------------------+----+\n",
            "+---+---------+-----------+------------+--------------+---------+---------------+----------------+--------------+-------------------+-------------+----------------------+---------+----------+------------+-------+-------------+--------------+------------+-----------------+-----------+--------------------+------------+-------------+---------------+----------+----------------+-----------------+---------------+--------------------+--------------+-----------------------+----+\n",
            "\n"
          ]
        }
      ]
    },
    {
      "cell_type": "code",
      "source": [
        "print(df.count())"
      ],
      "metadata": {
        "colab": {
          "base_uri": "https://localhost:8080/"
        },
        "id": "64eeJ_kM_Adz",
        "outputId": "bffbdf6b-607e-44af-e926-c80c136fcfb1"
      },
      "execution_count": null,
      "outputs": [
        {
          "output_type": "stream",
          "name": "stdout",
          "text": [
            "569\n"
          ]
        }
      ]
    },
    {
      "cell_type": "markdown",
      "source": [
        "Coverting data"
      ],
      "metadata": {
        "id": "Xcpp0-WrIMTJ"
      }
    },
    {
      "cell_type": "code",
      "source": [
        "#import libraries\n",
        "from pyspark.ml.feature import StringIndexer, OneHotEncoder"
      ],
      "metadata": {
        "id": "dtp8VoBU_DnU"
      },
      "execution_count": null,
      "outputs": []
    },
    {
      "cell_type": "code",
      "source": [
        "df.groupBy('diagnosis').count().show()"
      ],
      "metadata": {
        "colab": {
          "base_uri": "https://localhost:8080/"
        },
        "id": "-5nR5hfC_G5z",
        "outputId": "35c75516-ece5-4077-8d2b-110011f202a0"
      },
      "execution_count": null,
      "outputs": [
        {
          "output_type": "stream",
          "name": "stdout",
          "text": [
            "+---------+-----+\n",
            "|diagnosis|count|\n",
            "+---------+-----+\n",
            "|        B|  357|\n",
            "|        M|  212|\n",
            "+---------+-----+\n",
            "\n"
          ]
        }
      ]
    },
    {
      "cell_type": "code",
      "source": [
        "class_indexer = StringIndexer(inputCol=\"diagnosis\", outputCol=\"label\")\n",
        "#Fit and transform the dataframe\n",
        "df = class_indexer.fit(df).transform(df)\n",
        "df.show(5)"
      ],
      "metadata": {
        "colab": {
          "base_uri": "https://localhost:8080/"
        },
        "id": "qM0rEQjk_LqQ",
        "outputId": "c2c0a326-7491-4a24-fd33-70e1a49b3c55"
      },
      "execution_count": null,
      "outputs": [
        {
          "output_type": "stream",
          "name": "stdout",
          "text": [
            "+--------+---------+-----------+------------+--------------+---------+---------------+----------------+--------------+-------------------+-------------+----------------------+---------+----------+------------+-------+-------------+--------------+------------+-----------------+-----------+--------------------+------------+-------------+---------------+----------+----------------+-----------------+---------------+--------------------+--------------+-----------------------+----+-----+\n",
            "|      id|diagnosis|radius_mean|texture_mean|perimeter_mean|area_mean|smoothness_mean|compactness_mean|concavity_mean|concave points_mean|symmetry_mean|fractal_dimension_mean|radius_se|texture_se|perimeter_se|area_se|smoothness_se|compactness_se|concavity_se|concave points_se|symmetry_se|fractal_dimension_se|radius_worst|texture_worst|perimeter_worst|area_worst|smoothness_worst|compactness_worst|concavity_worst|concave points_worst|symmetry_worst|fractal_dimension_worst|_c32|label|\n",
            "+--------+---------+-----------+------------+--------------+---------+---------------+----------------+--------------+-------------------+-------------+----------------------+---------+----------+------------+-------+-------------+--------------+------------+-----------------+-----------+--------------------+------------+-------------+---------------+----------+----------------+-----------------+---------------+--------------------+--------------+-----------------------+----+-----+\n",
            "|  842302|        M|      17.99|       10.38|         122.8|   1001.0|         0.1184|          0.2776|        0.3001|             0.1471|       0.2419|               0.07871|    1.095|    0.9053|       8.589|  153.4|     0.006399|       0.04904|     0.05373|          0.01587|    0.03003|            0.006193|       25.38|        17.33|          184.6|    2019.0|          0.1622|           0.6656|         0.7119|              0.2654|        0.4601|                 0.1189|null|  1.0|\n",
            "|  842517|        M|      20.57|       17.77|         132.9|   1326.0|        0.08474|         0.07864|        0.0869|            0.07017|       0.1812|               0.05667|   0.5435|    0.7339|       3.398|  74.08|     0.005225|       0.01308|      0.0186|           0.0134|    0.01389|            0.003532|       24.99|        23.41|          158.8|    1956.0|          0.1238|           0.1866|         0.2416|               0.186|         0.275|                0.08902|null|  1.0|\n",
            "|84300903|        M|      19.69|       21.25|         130.0|   1203.0|         0.1096|          0.1599|        0.1974|             0.1279|       0.2069|               0.05999|   0.7456|    0.7869|       4.585|  94.03|      0.00615|       0.04006|     0.03832|          0.02058|     0.0225|            0.004571|       23.57|        25.53|          152.5|    1709.0|          0.1444|           0.4245|         0.4504|               0.243|        0.3613|                0.08758|null|  1.0|\n",
            "|84348301|        M|      11.42|       20.38|         77.58|    386.1|         0.1425|          0.2839|        0.2414|             0.1052|       0.2597|               0.09744|   0.4956|     1.156|       3.445|  27.23|      0.00911|       0.07458|     0.05661|          0.01867|    0.05963|            0.009208|       14.91|         26.5|          98.87|     567.7|          0.2098|           0.8663|         0.6869|              0.2575|        0.6638|                  0.173|null|  1.0|\n",
            "|84358402|        M|      20.29|       14.34|         135.1|   1297.0|         0.1003|          0.1328|         0.198|             0.1043|       0.1809|               0.05883|   0.7572|    0.7813|       5.438|  94.44|      0.01149|       0.02461|     0.05688|          0.01885|    0.01756|            0.005115|       22.54|        16.67|          152.2|    1575.0|          0.1374|            0.205|            0.4|              0.1625|        0.2364|                0.07678|null|  1.0|\n",
            "+--------+---------+-----------+------------+--------------+---------+---------------+----------------+--------------+-------------------+-------------+----------------------+---------+----------+------------+-------+-------------+--------------+------------+-----------------+-----------+--------------------+------------+-------------+---------------+----------+----------------+-----------------+---------------+--------------------+--------------+-----------------------+----+-----+\n",
            "only showing top 5 rows\n",
            "\n"
          ]
        }
      ]
    },
    {
      "cell_type": "code",
      "source": [
        "df.select(['diagnosis', 'label']).show(5)"
      ],
      "metadata": {
        "colab": {
          "base_uri": "https://localhost:8080/"
        },
        "id": "5HeopB9T_RkF",
        "outputId": "ec9df28c-edb1-4cee-ba90-77011f6e2d94"
      },
      "execution_count": null,
      "outputs": [
        {
          "output_type": "stream",
          "name": "stdout",
          "text": [
            "+---------+-----+\n",
            "|diagnosis|label|\n",
            "+---------+-----+\n",
            "|        M|  1.0|\n",
            "|        M|  1.0|\n",
            "|        M|  1.0|\n",
            "|        M|  1.0|\n",
            "|        M|  1.0|\n",
            "+---------+-----+\n",
            "only showing top 5 rows\n",
            "\n"
          ]
        }
      ]
    },
    {
      "cell_type": "code",
      "source": [
        "def transformColumnsToNumeric(df, inputCol):\n",
        "    \n",
        "    #apply StringIndexer to inputCol\n",
        "    inputCol_indexer = StringIndexer(inputCol = inputCol, outputCol = inputCol + \"-index\").fit(df)\n",
        "    df = inputCol_indexer.transform(df)\n",
        "    \n",
        "    onehotencoder_vector = OneHotEncoder(inputCol = inputCol + \"-index\", outputCol = inputCol + \"-vector\")\n",
        "    df = onehotencoder_vector.fit(df).transform(df)\n",
        "    \n",
        "    return df\n",
        "    \n",
        "    pass"
      ],
      "metadata": {
        "id": "4Kz6d_Fs_XdT"
      },
      "execution_count": null,
      "outputs": []
    },
    {
      "cell_type": "code",
      "source": [
        "df = transformColumnsToNumeric(df, \"radius_mean\")\n",
        "df = transformColumnsToNumeric(df, \"texture_mean\")\n",
        "df = transformColumnsToNumeric(df, \"perimeter_mean\")\n",
        "df = transformColumnsToNumeric(df, \"area_mean\")\n",
        "df = transformColumnsToNumeric(df, \"smoothness_mean\")\n",
        "df = transformColumnsToNumeric(df, \"compactness_mean\")\n",
        "df = transformColumnsToNumeric(df, \"concavity_mean\")\n",
        "df = transformColumnsToNumeric(df, \"concave points_mean\")\n",
        "df = transformColumnsToNumeric(df, \"symmetry_mean\")\n",
        "df = transformColumnsToNumeric(df, \"fractal_dimension_mean\")\n",
        "df.show(5)"
      ],
      "metadata": {
        "colab": {
          "base_uri": "https://localhost:8080/"
        },
        "id": "FWstN5mV_aKR",
        "outputId": "35cdab60-debb-4c1d-faa3-bccdeb662965"
      },
      "execution_count": null,
      "outputs": [
        {
          "output_type": "stream",
          "name": "stdout",
          "text": [
            "+--------+---------+-----------+------------+--------------+---------+---------------+----------------+--------------+-------------------+-------------+----------------------+---------+----------+------------+-------+-------------+--------------+------------+-----------------+-----------+--------------------+------------+-------------+---------------+----------+----------------+-----------------+---------------+--------------------+--------------+-----------------------+----+-----+-----------------+------------------+------------------+-------------------+--------------------+---------------------+---------------+-----------------+---------------------+----------------------+----------------------+-----------------------+--------------------+---------------------+-------------------------+--------------------------+-------------------+--------------------+----------------------------+-----------------------------+\n",
            "|      id|diagnosis|radius_mean|texture_mean|perimeter_mean|area_mean|smoothness_mean|compactness_mean|concavity_mean|concave points_mean|symmetry_mean|fractal_dimension_mean|radius_se|texture_se|perimeter_se|area_se|smoothness_se|compactness_se|concavity_se|concave points_se|symmetry_se|fractal_dimension_se|radius_worst|texture_worst|perimeter_worst|area_worst|smoothness_worst|compactness_worst|concavity_worst|concave points_worst|symmetry_worst|fractal_dimension_worst|_c32|label|radius_mean-index|radius_mean-vector|texture_mean-index|texture_mean-vector|perimeter_mean-index|perimeter_mean-vector|area_mean-index| area_mean-vector|smoothness_mean-index|smoothness_mean-vector|compactness_mean-index|compactness_mean-vector|concavity_mean-index|concavity_mean-vector|concave points_mean-index|concave points_mean-vector|symmetry_mean-index|symmetry_mean-vector|fractal_dimension_mean-index|fractal_dimension_mean-vector|\n",
            "+--------+---------+-----------+------------+--------------+---------+---------------+----------------+--------------+-------------------+-------------+----------------------+---------+----------+------------+-------+-------------+--------------+------------+-----------------+-----------+--------------------+------------+-------------+---------------+----------+----------------+-----------------+---------------+--------------------+--------------+-----------------------+----+-----+-----------------+------------------+------------------+-------------------+--------------------+---------------------+---------------+-----------------+---------------------+----------------------+----------------------+-----------------------+--------------------+---------------------+-------------------------+--------------------------+-------------------+--------------------+----------------------------+-----------------------------+\n",
            "|  842302|        M|      17.99|       10.38|         122.8|   1001.0|         0.1184|          0.2776|        0.3001|             0.1471|       0.2419|               0.07871|    1.095|    0.9053|       8.589|  153.4|     0.006399|       0.04904|     0.05373|          0.01587|    0.03003|            0.006193|       25.38|        17.33|          184.6|    2019.0|          0.1622|           0.6656|         0.7119|              0.2654|        0.4601|                 0.1189|null|  1.0|             87.0|  (455,[87],[1.0])|              81.0|   (478,[81],[1.0])|               113.0|    (521,[113],[1.0])|           29.0| (538,[29],[1.0])|                446.0|     (473,[446],[1.0])|                 531.0|      (536,[531],[1.0])|               519.0|    (536,[519],[1.0])|                     14.0|          (541,[14],[1.0])|              416.0|   (431,[416],[1.0])|                       483.0|            (498,[483],[1.0])|\n",
            "|  842517|        M|      20.57|       17.77|         132.9|   1326.0|        0.08474|         0.07864|        0.0869|            0.07017|       0.1812|               0.05667|   0.5435|    0.7339|       3.398|  74.08|     0.005225|       0.01308|      0.0186|           0.0134|    0.01389|            0.003532|       24.99|        23.41|          158.8|    1956.0|          0.1238|           0.1866|         0.2416|               0.186|         0.275|                0.08902|null|  1.0|            383.0| (455,[383],[1.0])|             235.0|  (478,[235],[1.0])|                17.0|     (521,[17],[1.0])|           85.0| (538,[85],[1.0])|                186.0|     (473,[186],[1.0])|                 239.0|      (536,[239],[1.0])|               329.0|    (536,[329],[1.0])|                    399.0|         (541,[399],[1.0])|              260.0|   (431,[260],[1.0])|                         0.0|              (498,[0],[1.0])|\n",
            "|84300903|        M|      19.69|       21.25|         130.0|   1203.0|         0.1096|          0.1599|        0.1974|             0.1279|       0.2069|               0.05999|   0.7456|    0.7869|       4.585|  94.03|      0.00615|       0.04006|     0.03832|          0.02058|     0.0225|            0.004571|       23.57|        25.53|          152.5|    1709.0|          0.1444|           0.4245|         0.4504|               0.243|        0.3613|                0.08758|null|  1.0|            364.0| (455,[364],[1.0])|              62.0|   (478,[62],[1.0])|                14.0|     (521,[14],[1.0])|           61.0| (538,[61],[1.0])|                 15.0|      (473,[15],[1.0])|                  27.0|       (536,[27],[1.0])|                16.0|     (536,[16],[1.0])|                    517.0|         (541,[517],[1.0])|               98.0|    (431,[98],[1.0])|                       218.0|            (498,[218],[1.0])|\n",
            "|84348301|        M|      11.42|       20.38|         77.58|    386.1|         0.1425|          0.2839|        0.2414|             0.1052|       0.2597|               0.09744|   0.4956|     1.156|       3.445|  27.23|      0.00911|       0.07458|     0.05661|          0.01867|    0.05963|            0.009208|       14.91|         26.5|          98.87|     567.7|          0.2098|           0.8663|         0.6869|              0.2575|        0.6638|                  0.173|null|  1.0|            135.0| (455,[135],[1.0])|             319.0|  (478,[319],[1.0])|               326.0|    (521,[326],[1.0])|          202.0|(538,[202],[1.0])|                471.0|     (473,[471],[1.0])|                 533.0|      (536,[533],[1.0])|               507.0|    (536,[507],[1.0])|                    495.0|         (541,[495],[1.0])|              426.0|   (431,[426],[1.0])|                       498.0|                  (498,[],[])|\n",
            "|84358402|        M|      20.29|       14.34|         135.1|   1297.0|         0.1003|          0.1328|         0.198|             0.1043|       0.1809|               0.05883|   0.7572|    0.7813|       5.438|  94.44|      0.01149|       0.02461|     0.05688|          0.01885|    0.01756|            0.005115|       22.54|        16.67|          152.2|    1575.0|          0.1374|            0.205|            0.4|              0.1625|        0.2364|                0.07678|null|  1.0|            375.0| (455,[375],[1.0])|             137.0|  (478,[137],[1.0])|               143.0|    (521,[143],[1.0])|           78.0| (538,[78],[1.0])|                 38.0|      (473,[38],[1.0])|                 420.0|      (536,[420],[1.0])|               481.0|    (536,[481],[1.0])|                     12.0|          (541,[12],[1.0])|               18.0|    (431,[18],[1.0])|                        24.0|             (498,[24],[1.0])|\n",
            "+--------+---------+-----------+------------+--------------+---------+---------------+----------------+--------------+-------------------+-------------+----------------------+---------+----------+------------+-------+-------------+--------------+------------+-----------------+-----------+--------------------+------------+-------------+---------------+----------+----------------+-----------------+---------------+--------------------+--------------+-----------------------+----+-----+-----------------+------------------+------------------+-------------------+--------------------+---------------------+---------------+-----------------+---------------------+----------------------+----------------------+-----------------------+--------------------+---------------------+-------------------------+--------------------------+-------------------+--------------------+----------------------------+-----------------------------+\n",
            "only showing top 5 rows\n",
            "\n"
          ]
        }
      ]
    },
    {
      "cell_type": "markdown",
      "source": [
        "Vector assembler"
      ],
      "metadata": {
        "id": "fTyV-6X_JBNH"
      }
    },
    {
      "cell_type": "code",
      "source": [
        "from pyspark.ml.feature import VectorAssembler"
      ],
      "metadata": {
        "id": "xrAUU6trAJY9"
      },
      "execution_count": null,
      "outputs": []
    },
    {
      "cell_type": "code",
      "source": [
        "df.columns"
      ],
      "metadata": {
        "colab": {
          "base_uri": "https://localhost:8080/"
        },
        "id": "m_q461MLAnSm",
        "outputId": "23db59dd-ab20-4f2f-e716-c0d9ac002c91"
      },
      "execution_count": null,
      "outputs": [
        {
          "output_type": "execute_result",
          "data": {
            "text/plain": [
              "['id',\n",
              " 'diagnosis',\n",
              " 'radius_mean',\n",
              " 'texture_mean',\n",
              " 'perimeter_mean',\n",
              " 'area_mean',\n",
              " 'smoothness_mean',\n",
              " 'compactness_mean',\n",
              " 'concavity_mean',\n",
              " 'concave points_mean',\n",
              " 'symmetry_mean',\n",
              " 'fractal_dimension_mean',\n",
              " 'radius_se',\n",
              " 'texture_se',\n",
              " 'perimeter_se',\n",
              " 'area_se',\n",
              " 'smoothness_se',\n",
              " 'compactness_se',\n",
              " 'concavity_se',\n",
              " 'concave points_se',\n",
              " 'symmetry_se',\n",
              " 'fractal_dimension_se',\n",
              " 'radius_worst',\n",
              " 'texture_worst',\n",
              " 'perimeter_worst',\n",
              " 'area_worst',\n",
              " 'smoothness_worst',\n",
              " 'compactness_worst',\n",
              " 'concavity_worst',\n",
              " 'concave points_worst',\n",
              " 'symmetry_worst',\n",
              " 'fractal_dimension_worst',\n",
              " '_c32',\n",
              " 'label',\n",
              " 'radius_mean-index',\n",
              " 'radius_mean-vector',\n",
              " 'texture_mean-index',\n",
              " 'texture_mean-vector',\n",
              " 'perimeter_mean-index',\n",
              " 'perimeter_mean-vector',\n",
              " 'area_mean-index',\n",
              " 'area_mean-vector',\n",
              " 'smoothness_mean-index',\n",
              " 'smoothness_mean-vector',\n",
              " 'compactness_mean-index',\n",
              " 'compactness_mean-vector',\n",
              " 'concavity_mean-index',\n",
              " 'concavity_mean-vector',\n",
              " 'concave points_mean-index',\n",
              " 'concave points_mean-vector',\n",
              " 'symmetry_mean-index',\n",
              " 'symmetry_mean-vector',\n",
              " 'fractal_dimension_mean-index',\n",
              " 'fractal_dimension_mean-vector']"
            ]
          },
          "metadata": {},
          "execution_count": 25
        }
      ]
    },
    {
      "cell_type": "code",
      "source": [
        "inputCols=[\n",
        "        'radius_mean-vector',\n",
        "        'texture_mean-vector',\n",
        "        'perimeter_mean-vector',\n",
        "        'area_mean-vector',\n",
        "        'smoothness_mean-vector',\n",
        "        'compactness_mean-vector',\n",
        "        'concavity_mean-vector',\n",
        "        'concave points_mean-vector',\n",
        "        'symmetry_mean-vector',\n",
        "        'fractal_dimension_mean-vector']"
      ],
      "metadata": {
        "id": "Ed4xpUMxAr_5"
      },
      "execution_count": null,
      "outputs": []
    },
    {
      "cell_type": "code",
      "source": [
        "df_va = VectorAssembler(inputCols = inputCols, outputCol=\"features\")"
      ],
      "metadata": {
        "id": "-EPYwXI5BU43"
      },
      "execution_count": null,
      "outputs": []
    },
    {
      "cell_type": "code",
      "source": [
        "df = df_va.transform(df)"
      ],
      "metadata": {
        "id": "Esx7tRnmBXU_"
      },
      "execution_count": null,
      "outputs": []
    },
    {
      "cell_type": "code",
      "source": [
        "df.select(inputCols + [\"features\"] ).show(5)"
      ],
      "metadata": {
        "colab": {
          "base_uri": "https://localhost:8080/"
        },
        "id": "A2Mxr6VHBjUA",
        "outputId": "2caaaf6e-2276-43d8-d3d7-ae5e445a9ec3"
      },
      "execution_count": null,
      "outputs": [
        {
          "output_type": "stream",
          "name": "stdout",
          "text": [
            "+------------------+-------------------+---------------------+-----------------+----------------------+-----------------------+---------------------+--------------------------+--------------------+-----------------------------+--------------------+\n",
            "|radius_mean-vector|texture_mean-vector|perimeter_mean-vector| area_mean-vector|smoothness_mean-vector|compactness_mean-vector|concavity_mean-vector|concave points_mean-vector|symmetry_mean-vector|fractal_dimension_mean-vector|            features|\n",
            "+------------------+-------------------+---------------------+-----------------+----------------------+-----------------------+---------------------+--------------------------+--------------------+-----------------------------+--------------------+\n",
            "|  (455,[87],[1.0])|   (478,[81],[1.0])|    (521,[113],[1.0])| (538,[29],[1.0])|     (473,[446],[1.0])|      (536,[531],[1.0])|    (536,[519],[1.0])|          (541,[14],[1.0])|   (431,[416],[1.0])|            (498,[483],[1.0])|(5007,[87,536,104...|\n",
            "| (455,[383],[1.0])|  (478,[235],[1.0])|     (521,[17],[1.0])| (538,[85],[1.0])|     (473,[186],[1.0])|      (536,[239],[1.0])|    (536,[329],[1.0])|         (541,[399],[1.0])|   (431,[260],[1.0])|              (498,[0],[1.0])|(5007,[383,690,95...|\n",
            "| (455,[364],[1.0])|   (478,[62],[1.0])|     (521,[14],[1.0])| (538,[61],[1.0])|      (473,[15],[1.0])|       (536,[27],[1.0])|     (536,[16],[1.0])|         (541,[517],[1.0])|    (431,[98],[1.0])|            (498,[218],[1.0])|(5007,[364,517,94...|\n",
            "| (455,[135],[1.0])|  (478,[319],[1.0])|    (521,[326],[1.0])|(538,[202],[1.0])|     (473,[471],[1.0])|      (536,[533],[1.0])|    (536,[507],[1.0])|         (541,[495],[1.0])|   (431,[426],[1.0])|                  (498,[],[])|(5007,[135,774,12...|\n",
            "| (455,[375],[1.0])|  (478,[137],[1.0])|    (521,[143],[1.0])| (538,[78],[1.0])|      (473,[38],[1.0])|      (536,[420],[1.0])|    (536,[481],[1.0])|          (541,[12],[1.0])|    (431,[18],[1.0])|             (498,[24],[1.0])|(5007,[375,592,10...|\n",
            "+------------------+-------------------+---------------------+-----------------+----------------------+-----------------------+---------------------+--------------------------+--------------------+-----------------------------+--------------------+\n",
            "only showing top 5 rows\n",
            "\n"
          ]
        }
      ]
    },
    {
      "cell_type": "code",
      "source": [
        "df.select(['diagnosis','label']).show(10,False)"
      ],
      "metadata": {
        "colab": {
          "base_uri": "https://localhost:8080/"
        },
        "id": "7IgX8OhjBlxo",
        "outputId": "23b9e9c1-6af2-40c4-9188-abdc06adb3d7"
      },
      "execution_count": null,
      "outputs": [
        {
          "output_type": "stream",
          "name": "stdout",
          "text": [
            "+---------+-----+\n",
            "|diagnosis|label|\n",
            "+---------+-----+\n",
            "|M        |1.0  |\n",
            "|M        |1.0  |\n",
            "|M        |1.0  |\n",
            "|M        |1.0  |\n",
            "|M        |1.0  |\n",
            "|M        |1.0  |\n",
            "|M        |1.0  |\n",
            "|M        |1.0  |\n",
            "|M        |1.0  |\n",
            "|M        |1.0  |\n",
            "+---------+-----+\n",
            "only showing top 10 rows\n",
            "\n"
          ]
        }
      ]
    },
    {
      "cell_type": "code",
      "source": [
        "df_transformed = df.select(['features','label'])\n",
        "df_transformed.show(5)"
      ],
      "metadata": {
        "colab": {
          "base_uri": "https://localhost:8080/"
        },
        "id": "gOm22yc6Bl0f",
        "outputId": "b4a21afb-26e3-41ab-d15a-281f06b7e2aa"
      },
      "execution_count": null,
      "outputs": [
        {
          "output_type": "stream",
          "name": "stdout",
          "text": [
            "+--------------------+-----+\n",
            "|            features|label|\n",
            "+--------------------+-----+\n",
            "|(5007,[87,536,104...|  1.0|\n",
            "|(5007,[383,690,95...|  1.0|\n",
            "|(5007,[364,517,94...|  1.0|\n",
            "|(5007,[135,774,12...|  1.0|\n",
            "|(5007,[375,592,10...|  1.0|\n",
            "+--------------------+-----+\n",
            "only showing top 5 rows\n",
            "\n"
          ]
        }
      ]
    },
    {
      "cell_type": "code",
      "source": [
        "df_transformed.groupBy('label').count().show()"
      ],
      "metadata": {
        "colab": {
          "base_uri": "https://localhost:8080/"
        },
        "id": "Qv-oitnqB3id",
        "outputId": "c2e3a1a7-70ac-467f-fed4-fefcc4ca7c54"
      },
      "execution_count": null,
      "outputs": [
        {
          "output_type": "stream",
          "name": "stdout",
          "text": [
            "+-----+-----+\n",
            "|label|count|\n",
            "+-----+-----+\n",
            "|  0.0|  357|\n",
            "|  1.0|  212|\n",
            "+-----+-----+\n",
            "\n"
          ]
        }
      ]
    },
    {
      "cell_type": "code",
      "source": [
        "#split the data\n",
        "train_df, test_df = df_transformed.randomSplit([0.75,0.25])"
      ],
      "metadata": {
        "id": "RoSVJR9XB75D"
      },
      "execution_count": null,
      "outputs": []
    },
    {
      "cell_type": "code",
      "source": [
        "train_df.count()"
      ],
      "metadata": {
        "colab": {
          "base_uri": "https://localhost:8080/"
        },
        "id": "Qxds2LVMB-IF",
        "outputId": "1b19dc24-3175-41d0-9979-18d1d26632e7"
      },
      "execution_count": null,
      "outputs": [
        {
          "output_type": "execute_result",
          "data": {
            "text/plain": [
              "445"
            ]
          },
          "metadata": {},
          "execution_count": 34
        }
      ]
    },
    {
      "cell_type": "code",
      "source": [
        "test_df.count()"
      ],
      "metadata": {
        "colab": {
          "base_uri": "https://localhost:8080/"
        },
        "id": "jxeL7_rEB-L0",
        "outputId": "706f9bd1-85ea-4c4b-f059-5771b95ebd02"
      },
      "execution_count": null,
      "outputs": [
        {
          "output_type": "execute_result",
          "data": {
            "text/plain": [
              "124"
            ]
          },
          "metadata": {},
          "execution_count": 35
        }
      ]
    },
    {
      "cell_type": "code",
      "source": [
        "train_df.groupBy('label').count().show()"
      ],
      "metadata": {
        "colab": {
          "base_uri": "https://localhost:8080/"
        },
        "id": "6dcdNk8ZB-PU",
        "outputId": "c11ae308-82c3-49b5-86d4-2a02d599c5f1"
      },
      "execution_count": null,
      "outputs": [
        {
          "output_type": "stream",
          "name": "stdout",
          "text": [
            "+-----+-----+\n",
            "|label|count|\n",
            "+-----+-----+\n",
            "|  0.0|  286|\n",
            "|  1.0|  159|\n",
            "+-----+-----+\n",
            "\n"
          ]
        }
      ]
    },
    {
      "cell_type": "code",
      "source": [
        "test_df.groupBy('label').count().show()"
      ],
      "metadata": {
        "colab": {
          "base_uri": "https://localhost:8080/"
        },
        "id": "hVbeZoItB-SM",
        "outputId": "42aa44cb-5b65-444b-beca-54af5c4664f3"
      },
      "execution_count": null,
      "outputs": [
        {
          "output_type": "stream",
          "name": "stdout",
          "text": [
            "+-----+-----+\n",
            "|label|count|\n",
            "+-----+-----+\n",
            "|  0.0|   71|\n",
            "|  1.0|   53|\n",
            "+-----+-----+\n",
            "\n"
          ]
        }
      ]
    },
    {
      "cell_type": "code",
      "source": [
        "from pyspark.ml.classification import LogisticRegression"
      ],
      "metadata": {
        "id": "n8dOXeMzB-U5"
      },
      "execution_count": null,
      "outputs": []
    },
    {
      "cell_type": "code",
      "source": [
        "model = LogisticRegression(labelCol='label')\n",
        "model"
      ],
      "metadata": {
        "colab": {
          "base_uri": "https://localhost:8080/"
        },
        "id": "8CTwsVmzB-XK",
        "outputId": "b51ae566-12a0-489b-aa76-09ca6f4bb128"
      },
      "execution_count": null,
      "outputs": [
        {
          "output_type": "execute_result",
          "data": {
            "text/plain": [
              "LogisticRegression_0b7c6f976cca"
            ]
          },
          "metadata": {},
          "execution_count": 39
        }
      ]
    },
    {
      "cell_type": "code",
      "source": [
        "trained_model = model.fit(train_df)"
      ],
      "metadata": {
        "id": "rDPoqIYWB-ZV"
      },
      "execution_count": null,
      "outputs": []
    },
    {
      "cell_type": "code",
      "source": [
        "train_predictions = trained_model.evaluate(train_df).predictions\n",
        "train_predictions.show(5)"
      ],
      "metadata": {
        "colab": {
          "base_uri": "https://localhost:8080/"
        },
        "id": "vZ5crZA5B-b3",
        "outputId": "5c900060-51c1-458f-9aaa-08c7feddd096"
      },
      "execution_count": null,
      "outputs": [
        {
          "output_type": "stream",
          "name": "stderr",
          "text": [
            "/content/spark-3.2.1-bin-hadoop3.2/python/pyspark/sql/context.py:127: FutureWarning: Deprecated in 3.0.0. Use SparkSession.builder.getOrCreate() instead.\n",
            "  FutureWarning\n"
          ]
        },
        {
          "output_type": "stream",
          "name": "stdout",
          "text": [
            "+--------------------+-----+--------------------+--------------------+----------+\n",
            "|            features|label|       rawPrediction|         probability|prediction|\n",
            "+--------------------+-----+--------------------+--------------------+----------+\n",
            "|(5007,[0,527,1288...|  0.0|[19.3129023981768...|[0.99999999590255...|       0.0|\n",
            "|(5007,[0,548,1280...|  0.0|[19.4629305334752...|[0.99999999647339...|       0.0|\n",
            "|(5007,[0,610,962,...|  0.0|[19.1695168115998...|[0.99999999527083...|       0.0|\n",
            "|(5007,[1,480,1156...|  0.0|[19.4831064109445...|[0.99999999654383...|       0.0|\n",
            "|(5007,[1,547,1155...|  0.0|[19.5406849867077...|[0.99999999673721...|       0.0|\n",
            "+--------------------+-----+--------------------+--------------------+----------+\n",
            "only showing top 5 rows\n",
            "\n"
          ]
        }
      ]
    },
    {
      "cell_type": "markdown",
      "source": [
        "Predictions"
      ],
      "metadata": {
        "id": "d4pVYpSMCUuu"
      }
    },
    {
      "cell_type": "code",
      "source": [
        "train_df_count_1 = train_df.filter(train_df['label'] == 1).count()\n",
        "train_df_count_0 = train_df.filter(train_df['label'] == 0).count()\n",
        "train_df_count_1, train_df_count_0"
      ],
      "metadata": {
        "colab": {
          "base_uri": "https://localhost:8080/"
        },
        "id": "vYwn9y7ACVFr",
        "outputId": "c39f9700-06f1-4066-d958-f5bff8ef1822"
      },
      "execution_count": null,
      "outputs": [
        {
          "output_type": "execute_result",
          "data": {
            "text/plain": [
              "(159, 286)"
            ]
          },
          "metadata": {},
          "execution_count": 42
        }
      ]
    },
    {
      "cell_type": "code",
      "source": [
        "cp = train_predictions.filter(\n",
        "train_predictions['label'] == 1).filter(\n",
        "train_predictions['prediction'] == 1).select(\n",
        "['label','prediction','probability'])\n",
        "print(\"Correct predictions: \", cp.count())\n",
        "accuracy = (cp.count()) /  train_df_count_1\n",
        "print(f\"Accuracy: {accuracy}\\n\")\n",
        "cp.show(5,False)"
      ],
      "metadata": {
        "colab": {
          "base_uri": "https://localhost:8080/"
        },
        "id": "TejVQaWOCeJh",
        "outputId": "abf71129-ae6a-4065-d4e1-1ead79b0feed"
      },
      "execution_count": null,
      "outputs": [
        {
          "output_type": "stream",
          "name": "stdout",
          "text": [
            "Correct predictions:  159\n",
            "Accuracy: 1.0\n",
            "\n",
            "+-----+----------+-------------------------------------------+\n",
            "|label|prediction|probability                                |\n",
            "+-----+----------+-------------------------------------------+\n",
            "|1.0  |1.0       |[4.1208969778968306E-10,0.9999999995879103]|\n",
            "|1.0  |1.0       |[1.3650900443317923E-10,0.999999999863491] |\n",
            "|1.0  |1.0       |[4.098880577394454E-10,0.999999999590112]  |\n",
            "|1.0  |1.0       |[2.1731560340827983E-12,0.9999999999978268]|\n",
            "|1.0  |1.0       |[2.1191520685333544E-11,0.9999999999788085]|\n",
            "+-----+----------+-------------------------------------------+\n",
            "only showing top 5 rows\n",
            "\n"
          ]
        }
      ]
    },
    {
      "cell_type": "code",
      "source": [
        "fp = train_predictions.filter(\n",
        "train_predictions['label'] == 0).filter(\n",
        "train_predictions['prediction'] == 1).select(\n",
        "['label','prediction','probability'])\n",
        "print(\"False positive: \", fp.count())\n",
        "fp.show(5,False)"
      ],
      "metadata": {
        "colab": {
          "base_uri": "https://localhost:8080/"
        },
        "id": "E3tOwXwICeQg",
        "outputId": "a9427c00-5e23-4c9b-e18c-f302986c2ada"
      },
      "execution_count": null,
      "outputs": [
        {
          "output_type": "stream",
          "name": "stdout",
          "text": [
            "False positive:  0\n",
            "+-----+----------+-----------+\n",
            "|label|prediction|probability|\n",
            "+-----+----------+-----------+\n",
            "+-----+----------+-----------+\n",
            "\n"
          ]
        }
      ]
    },
    {
      "cell_type": "code",
      "source": [
        "fn = train_predictions.filter(\n",
        "train_predictions['label'] == 1).filter(\n",
        "train_predictions['prediction'] == 0).select(\n",
        "['label','prediction','probability'])\n",
        "print(\"False negative: \", fn.count())\n",
        "fn.show(5,False)"
      ],
      "metadata": {
        "colab": {
          "base_uri": "https://localhost:8080/"
        },
        "id": "2rIgmp9GChzc",
        "outputId": "ccd29166-4b69-4944-dfc3-1109751a0fed"
      },
      "execution_count": null,
      "outputs": [
        {
          "output_type": "stream",
          "name": "stdout",
          "text": [
            "False negative:  0\n",
            "+-----+----------+-----------+\n",
            "|label|prediction|probability|\n",
            "+-----+----------+-----------+\n",
            "+-----+----------+-----------+\n",
            "\n"
          ]
        }
      ]
    },
    {
      "cell_type": "code",
      "source": [
        "test_predictions = trained_model.evaluate(test_df).predictions\n",
        "test_predictions.show(5, False)"
      ],
      "metadata": {
        "colab": {
          "base_uri": "https://localhost:8080/"
        },
        "id": "XVrlWwGjCh3T",
        "outputId": "94b56671-c45f-4678-ef5e-af3328054ba0"
      },
      "execution_count": null,
      "outputs": [
        {
          "output_type": "stream",
          "name": "stderr",
          "text": [
            "/content/spark-3.2.1-bin-hadoop3.2/python/pyspark/sql/context.py:127: FutureWarning: Deprecated in 3.0.0. Use SparkSession.builder.getOrCreate() instead.\n",
            "  FutureWarning\n"
          ]
        },
        {
          "output_type": "stream",
          "name": "stdout",
          "text": [
            "+------------------------------------------------------------------------------------------------+-----+----------------------------------------+-----------------------------------------+----------+\n",
            "|features                                                                                        |label|rawPrediction                           |probability                              |prediction|\n",
            "+------------------------------------------------------------------------------------------------+-----+----------------------------------------+-----------------------------------------+----------+\n",
            "|(5007,[0,900,1296,1757,2384,2891,3014,3855,4101,4930],[1.0,1.0,1.0,1.0,1.0,1.0,1.0,1.0,1.0,1.0])|1.0  |[4.491942141779461,-4.491942141779461]  |[0.9889251529280676,0.011074847071932403]|0.0       |\n",
            "|(5007,[1,467,1157,1460,2354,2760,3171,3677,4274,4572],[1.0,1.0,1.0,1.0,1.0,1.0,1.0,1.0,1.0,1.0])|0.0  |[11.219547251785531,-11.219547251785531]|[0.9999865906812176,1.340931878235363E-5]|0.0       |\n",
            "|(5007,[4,620,1228,1466,1995,2673,3195,3796,4417,4858],[1.0,1.0,1.0,1.0,1.0,1.0,1.0,1.0,1.0,1.0])|0.0  |[7.222611658172502,-7.222611658172502]  |[0.999270638661577,7.293613384230513E-4] |0.0       |\n",
            "|(5007,[6,490,1261,1728,2391,2658,3113,3772,4375,4884],[1.0,1.0,1.0,1.0,1.0,1.0,1.0,1.0,1.0,1.0])|0.0  |[7.259092258244338,-7.259092258244338]  |[0.9992967483450415,7.032516549585477E-4]|0.0       |\n",
            "|(5007,[7,761,1289,1751,2172,2789,3292,3787,4328,4794],[1.0,1.0,1.0,1.0,1.0,1.0,1.0,1.0,1.0,1.0])|0.0  |[3.2573906327780153,-3.2573906327780153]|[0.9629377784148002,0.037062221585199784]|0.0       |\n",
            "+------------------------------------------------------------------------------------------------+-----+----------------------------------------+-----------------------------------------+----------+\n",
            "only showing top 5 rows\n",
            "\n"
          ]
        }
      ]
    },
    {
      "cell_type": "code",
      "source": [
        "test_df_count_1 = test_df.filter(test_df['label'] == 1).count()\n",
        "test_df_count_0 = test_df.filter(test_df['label'] == 0).count()\n",
        "test_df_count_1, test_df_count_0"
      ],
      "metadata": {
        "colab": {
          "base_uri": "https://localhost:8080/"
        },
        "id": "vidSdKDGCrJu",
        "outputId": "a18117a6-3459-4776-a776-a37e5fcf6b0b"
      },
      "execution_count": null,
      "outputs": [
        {
          "output_type": "execute_result",
          "data": {
            "text/plain": [
              "(53, 71)"
            ]
          },
          "metadata": {},
          "execution_count": 47
        }
      ]
    },
    {
      "cell_type": "markdown",
      "source": [
        "Test Predictions"
      ],
      "metadata": {
        "id": "1ooFDthVJxRW"
      }
    },
    {
      "cell_type": "code",
      "source": [
        "cp = test_predictions.filter(\n",
        "test_predictions['label'] == 1).filter(\n",
        "test_predictions['prediction'] == 1).select(\n",
        "['label','prediction','probability'])\n",
        "print(\"Correct predictions: \", cp.count())\n",
        "accuracy = (cp.count()) /  test_df_count_1\n",
        "print(f\"Accuracy: {accuracy}\\n\")\n",
        "cp.show(5,False)"
      ],
      "metadata": {
        "colab": {
          "base_uri": "https://localhost:8080/"
        },
        "id": "MA26l_knCh6T",
        "outputId": "ca42de2a-419a-487b-8442-0ed2b34391eb"
      },
      "execution_count": null,
      "outputs": [
        {
          "output_type": "stream",
          "name": "stdout",
          "text": [
            "Correct predictions:  7\n",
            "Accuracy: 0.1320754716981132\n",
            "\n",
            "+-----+----------+------------------------------------------+\n",
            "|label|prediction|probability                               |\n",
            "+-----+----------+------------------------------------------+\n",
            "|1.0  |1.0       |[0.02353455008753589,0.9764654499124641]  |\n",
            "|1.0  |1.0       |[0.0051343226178753015,0.9948656773821247]|\n",
            "|1.0  |1.0       |[0.3247547343685795,0.6752452656314205]   |\n",
            "|1.0  |1.0       |[0.09172908641536762,0.9082709135846324]  |\n",
            "|1.0  |1.0       |[0.3805473485631885,0.6194526514368115]   |\n",
            "+-----+----------+------------------------------------------+\n",
            "only showing top 5 rows\n",
            "\n"
          ]
        }
      ]
    },
    {
      "cell_type": "code",
      "source": [
        "fp = test_predictions.filter(\n",
        "test_predictions['label'] == 0).filter(\n",
        "test_predictions['prediction'] == 1).select(\n",
        "['label','prediction','probability'])\n",
        "print(\"False positive: \", fp.count())\n",
        "fp.show(5,False)"
      ],
      "metadata": {
        "colab": {
          "base_uri": "https://localhost:8080/"
        },
        "id": "7QvoZuJNCxN1",
        "outputId": "85e3704a-0340-40e8-e897-e15ed4078b08"
      },
      "execution_count": null,
      "outputs": [
        {
          "output_type": "stream",
          "name": "stdout",
          "text": [
            "False positive:  0\n",
            "+-----+----------+-----------+\n",
            "|label|prediction|probability|\n",
            "+-----+----------+-----------+\n",
            "+-----+----------+-----------+\n",
            "\n"
          ]
        }
      ]
    },
    {
      "cell_type": "code",
      "source": [
        "fn = test_predictions.filter(\n",
        "test_predictions['label'] == 1).filter(\n",
        "test_predictions['prediction'] == 0).select(\n",
        "['label','prediction','probability'])\n",
        "print(\"False negative: \", fn.count())\n",
        "fn.show(5,False)"
      ],
      "metadata": {
        "colab": {
          "base_uri": "https://localhost:8080/"
        },
        "id": "w3-HkXnCCz5L",
        "outputId": "9f38fc3e-0fb7-47e3-a2ae-c6ea33bdae1a"
      },
      "execution_count": null,
      "outputs": [
        {
          "output_type": "stream",
          "name": "stdout",
          "text": [
            "False negative:  46\n",
            "+-----+----------+-----------------------------------------+\n",
            "|label|prediction|probability                              |\n",
            "+-----+----------+-----------------------------------------+\n",
            "|1.0  |0.0       |[0.9889251529280676,0.011074847071932403]|\n",
            "|1.0  |0.0       |[0.9990342126272204,9.657873727796362E-4]|\n",
            "|1.0  |0.0       |[0.9889053230526537,0.011094676947346338]|\n",
            "|1.0  |0.0       |[0.9163256993898229,0.08367430061017711] |\n",
            "|1.0  |0.0       |[0.5879139263479234,0.4120860736520766]  |\n",
            "+-----+----------+-----------------------------------------+\n",
            "only showing top 5 rows\n",
            "\n"
          ]
        }
      ]
    },
    {
      "cell_type": "code",
      "source": [
        "end_time <- sys.time()\n",
        "end_time-start-time"
      ],
      "metadata": {
        "colab": {
          "base_uri": "https://localhost:8080/",
          "height": 184
        },
        "id": "AFqb_RTMZIfI",
        "outputId": "0b9a7df4-e331-4795-9483-c3c91cdf7dd7"
      },
      "execution_count": null,
      "outputs": [
        {
          "output_type": "error",
          "ename": "NameError",
          "evalue": "ignored",
          "traceback": [
            "\u001b[0;31m---------------------------------------------------------------------------\u001b[0m",
            "\u001b[0;31mNameError\u001b[0m                                 Traceback (most recent call last)",
            "\u001b[0;32m<ipython-input-51-cd6059d4abbe>\u001b[0m in \u001b[0;36m<module>\u001b[0;34m()\u001b[0m\n\u001b[0;32m----> 1\u001b[0;31m \u001b[0mend_time\u001b[0m \u001b[0;34m<\u001b[0m\u001b[0;34m-\u001b[0m \u001b[0msys\u001b[0m\u001b[0;34m.\u001b[0m\u001b[0mtime\u001b[0m\u001b[0;34m(\u001b[0m\u001b[0;34m)\u001b[0m\u001b[0;34m\u001b[0m\u001b[0;34m\u001b[0m\u001b[0m\n\u001b[0m\u001b[1;32m      2\u001b[0m \u001b[0mend_time\u001b[0m\u001b[0;34m-\u001b[0m\u001b[0mstart\u001b[0m\u001b[0;34m-\u001b[0m\u001b[0mtime\u001b[0m\u001b[0;34m\u001b[0m\u001b[0;34m\u001b[0m\u001b[0m\n",
            "\u001b[0;31mNameError\u001b[0m: name 'end_time' is not defined"
          ]
        }
      ]
    }
  ]
}